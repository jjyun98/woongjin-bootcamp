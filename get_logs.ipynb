{
 "cells": [
  {
   "cell_type": "code",
   "execution_count": null,
   "id": "2582446c",
   "metadata": {},
   "outputs": [],
   "source": "import requests\nimport time\nfrom datetime import datetime, timedelta\nimport pandas as pd\nfrom numpy.random import uniform\nimport os\nfrom dotenv import load_dotenv\n\n# 환경변수 로드\nload_dotenv()\n\nbase_url = 'https://dataplore.net/api/visitlogs'\nheaders = {'X-API-Key': os.getenv('API_KEY')}\n\nall_results = []\n\nfor day in range(22):\n    date = (datetime(2025, 10, 1) + timedelta(days=day)).strftime('%Y-%m-%d')\n    page = 1\n    \n    while True:\n        try:\n            url = f\"{base_url}/?date={date}&page={page}\"\n            data = requests.get(url, headers=headers, timeout=10).json()\n            \n            if not data['results']:\n                break\n            \n            all_results.extend(data['results'])\n            print(f\"{date} p{page}: {len(all_results)}개\")\n            \n            if not data['next']:\n                break\n            \n            page += 1\n            #time.sleep(uniform(0.3, 0.7))  # 0.3~0.7초 랜덤 대기\n            \n        except:\n            break\n    \n    #time.sleep(uniform(0.4, 0.8))\n\ndf = pd.DataFrame(all_results)\nprint(f\"\\n완료: {len(df):,}개\")"
  },
  {
   "cell_type": "code",
   "execution_count": 5,
   "id": "ab235cff",
   "metadata": {},
   "outputs": [],
   "source": [
    "# df.to_csv('./data/api_data.csv', index=False) # csv생성"
   ]
  }
 ],
 "metadata": {
  "kernelspec": {
   "display_name": "woong",
   "language": "python",
   "name": "python3"
  },
  "language_info": {
   "codemirror_mode": {
    "name": "ipython",
    "version": 3
   },
   "file_extension": ".py",
   "mimetype": "text/x-python",
   "name": "python",
   "nbconvert_exporter": "python",
   "pygments_lexer": "ipython3",
   "version": "3.11.13"
  }
 },
 "nbformat": 4,
 "nbformat_minor": 5
}